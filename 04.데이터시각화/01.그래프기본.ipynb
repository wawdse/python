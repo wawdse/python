{
 "cells": [
  {
   "cell_type": "code",
   "execution_count": 25,
   "id": "c9b59418",
   "metadata": {},
   "outputs": [],
   "source": [
    "import matplotlib.pyplot as plt"
   ]
  },
  {
   "cell_type": "code",
   "execution_count": 26,
   "id": "11d8b647",
   "metadata": {},
   "outputs": [
    {
     "data": {
      "image/png": "[encoded data removed]",
      "text/plain": [
       "<Figure size 640x480 with 1 Axes>"
      ]
     },
     "metadata": {},
     "output_type": "display_data"
    }
   ],
   "source": [
    "x = [-1, 2, 3]\n",
    "y = [2, 4, 8]\n",
    "plt. plot(x, y)\n",
    "plt.show()"
   ]
  },
  {
   "cell_type": "code",
   "execution_count": 27,
   "id": "c3f23732",
   "metadata": {},
   "outputs": [],
   "source": [
    "#한글설정\n",
    "plt.rc('font', family ='Malgun Gothic')\n",
    "plt.rc('font', size = 20)\n",
    "plt.rc('axes', unicode_minus = False)"
   ]
  },
  {
   "cell_type": "code",
   "execution_count": 28,
   "id": "1389d3f9",
   "metadata": {},
   "outputs": [
    {
     "data": {
      "text/plain": [
       "['cmmi10',\n",
       " 'STIXGeneral',\n",
       " 'STIXSizeTwoSym',\n",
       " 'STIXNonUnicode',\n",
       " 'DejaVu Sans',\n",
       " 'cmr10',\n",
       " 'cmb10',\n",
       " 'cmtt10',\n",
       " 'DejaVu Serif',\n",
       " 'DejaVu Sans',\n",
       " 'STIXSizeFourSym',\n",
       " 'DejaVu Serif Display',\n",
       " 'STIXSizeFourSym',\n",
       " 'STIXGeneral',\n",
       " 'STIXSizeOneSym',\n",
       " 'DejaVu Sans Mono',\n",
       " 'STIXSizeOneSym',\n",
       " 'STIXGeneral',\n",
       " 'DejaVu Sans Mono',\n",
       " 'cmex10',\n",
       " 'STIXGeneral',\n",
       " 'DejaVu Sans Mono',\n",
       " 'DejaVu Serif',\n",
       " 'STIXSizeFiveSym',\n",
       " 'DejaVu Serif',\n",
       " 'DejaVu Sans',\n",
       " 'STIXSizeThreeSym',\n",
       " 'STIXNonUnicode',\n",
       " 'DejaVu Serif',\n",
       " 'STIXSizeTwoSym',\n",
       " 'STIXSizeThreeSym',\n",
       " 'DejaVu Sans',\n",
       " 'STIXNonUnicode',\n",
       " 'STIXNonUnicode',\n",
       " 'DejaVu Sans Mono',\n",
       " 'DejaVu Sans Display',\n",
       " 'cmsy10',\n",
       " 'cmss10',\n",
       " 'Times New Roman',\n",
       " 'Sitka',\n",
       " 'Lucida Console',\n",
       " 'Consolas',\n",
       " 'Franklin Gothic Medium',\n",
       " 'Palatino Linotype',\n",
       " 'MingLiU-ExtB',\n",
       " 'Georgia',\n",
       " 'Cambria',\n",
       " 'Gentium Book Basic',\n",
       " 'Nirmala UI',\n",
       " 'Segoe UI Variable',\n",
       " 'Noto Sans KR',\n",
       " 'OpenSymbol',\n",
       " 'Malgun Gothic',\n",
       " 'Segoe Script',\n",
       " 'Verdana',\n",
       " 'Javanese Text',\n",
       " 'Corbel',\n",
       " 'Tahoma',\n",
       " 'Caladea',\n",
       " 'Caladea',\n",
       " 'Nirmala UI',\n",
       " 'Segoe UI',\n",
       " 'Palatino Linotype',\n",
       " 'DejaVu Sans',\n",
       " 'Constantia',\n",
       " 'Candara',\n",
       " 'DejaVu Sans',\n",
       " 'Cambria',\n",
       " 'Segoe UI',\n",
       " 'Candara',\n",
       " 'Caladea',\n",
       " 'SimSun-ExtG',\n",
       " 'Gadugi',\n",
       " 'Leelawadee UI',\n",
       " 'Verdana',\n",
       " 'Cambria',\n",
       " 'Sylfaen',\n",
       " 'Corbel',\n",
       " 'Yu Gothic',\n",
       " 'Cambria',\n",
       " 'Constantia',\n",
       " 'Palatino Linotype',\n",
       " 'Corbel',\n",
       " 'Microsoft YaHei',\n",
       " 'Carlito',\n",
       " 'Microsoft YaHei',\n",
       " 'Gentium Basic',\n",
       " 'DejaVu Sans Mono',\n",
       " 'Segoe Script',\n",
       " 'Microsoft JhengHei',\n",
       " 'Calibri',\n",
       " 'Gentium Basic',\n",
       " 'Leelawadee UI',\n",
       " 'Arial',\n",
       " 'Courier New',\n",
       " 'DejaVu Serif',\n",
       " 'DejaVu Serif',\n",
       " 'Georgia',\n",
       " 'Carlito',\n",
       " 'Trebuchet MS',\n",
       " 'Times New Roman',\n",
       " 'Microsoft Tai Le',\n",
       " 'SimSun-ExtB',\n",
       " 'DejaVu Serif',\n",
       " 'Sitka',\n",
       " 'Myanmar Text',\n",
       " 'Microsoft Sans Serif',\n",
       " 'Gentium Basic',\n",
       " 'Impact',\n",
       " 'Verdana',\n",
       " 'Webdings',\n",
       " 'DejaVu Serif',\n",
       " 'DejaVu Serif',\n",
       " 'Candara',\n",
       " 'Trebuchet MS',\n",
       " 'Comic Sans MS',\n",
       " 'Arial',\n",
       " 'Segoe UI',\n",
       " 'Courier New',\n",
       " 'Corbel',\n",
       " 'Segoe UI',\n",
       " 'Yu Gothic',\n",
       " 'Arial',\n",
       " 'Segoe UI Historic',\n",
       " 'DejaVu Sans',\n",
       " 'SimSun',\n",
       " 'Segoe Print',\n",
       " 'Microsoft PhagsPa',\n",
       " 'Calibri',\n",
       " 'Comic Sans MS',\n",
       " 'HoloLens MDL2 Assets',\n",
       " 'Malgun Gothic',\n",
       " 'Yu Gothic',\n",
       " 'Tahoma',\n",
       " 'Consolas',\n",
       " 'Ebrima',\n",
       " 'DejaVu Sans Mono',\n",
       " 'Trebuchet MS',\n",
       " 'Times New Roman',\n",
       " 'Corbel',\n",
       " 'Segoe UI',\n",
       " 'Trebuchet MS',\n",
       " 'Segoe UI',\n",
       " 'Microsoft Himalaya',\n",
       " 'Yu Gothic',\n",
       " 'Calibri',\n",
       " 'Candara',\n",
       " 'Ebrima',\n",
       " 'Verdana',\n",
       " 'Carlito',\n",
       " 'Times New Roman',\n",
       " 'Franklin Gothic Medium',\n",
       " 'DejaVu Serif',\n",
       " 'Constantia',\n",
       " 'Calibri',\n",
       " 'Comic Sans MS',\n",
       " 'Gentium Book Basic',\n",
       " 'Gabriola',\n",
       " 'Calibri',\n",
       " 'Segoe Fluent Icons',\n",
       " 'DejaVu Serif',\n",
       " 'Segoe UI',\n",
       " 'Gentium Book Basic',\n",
       " 'Gentium Basic',\n",
       " 'DejaVu Sans',\n",
       " 'Courier New',\n",
       " 'DejaVu Sans Mono',\n",
       " 'Mongolian Baiti',\n",
       " 'Batang',\n",
       " 'Arial',\n",
       " 'DejaVu Sans Mono',\n",
       " 'Wingdings',\n",
       " 'Comic Sans MS',\n",
       " 'Segoe Print',\n",
       " 'Segoe UI',\n",
       " 'Microsoft Yi Baiti',\n",
       " 'Microsoft YaHei',\n",
       " 'MS Gothic',\n",
       " 'Microsoft PhagsPa',\n",
       " 'Gentium Book Basic',\n",
       " 'Segoe UI',\n",
       " 'Corbel',\n",
       " 'Candara',\n",
       " 'Georgia',\n",
       " 'DejaVu Sans',\n",
       " 'Bahnschrift',\n",
       " 'Gadugi',\n",
       " 'Calibri',\n",
       " 'Nirmala UI',\n",
       " 'Microsoft New Tai Lue',\n",
       " 'Palatino Linotype',\n",
       " 'Leelawadee UI',\n",
       " 'DejaVu Serif',\n",
       " 'Constantia',\n",
       " 'Arial',\n",
       " 'Segoe MDL2 Assets',\n",
       " 'Carlito',\n",
       " 'Noto Serif KR',\n",
       " 'Segoe UI Emoji',\n",
       " 'Segoe UI',\n",
       " 'Consolas',\n",
       " 'DejaVu Sans',\n",
       " 'Microsoft New Tai Lue',\n",
       " 'Microsoft Tai Le',\n",
       " 'Candara',\n",
       " 'MV Boli',\n",
       " 'Microsoft JhengHei',\n",
       " 'Ink Free',\n",
       " 'Symbol',\n",
       " 'Consolas',\n",
       " 'Microsoft JhengHei',\n",
       " 'Segoe UI',\n",
       " 'Sans Serif Collection',\n",
       " 'DejaVu Sans',\n",
       " 'DejaVu Sans',\n",
       " 'Courier New',\n",
       " 'DejaVu Sans',\n",
       " 'Lucida Sans Unicode',\n",
       " 'Myanmar Text',\n",
       " 'Georgia',\n",
       " 'Segoe UI',\n",
       " 'Gulim',\n",
       " 'Segoe UI Symbol',\n",
       " 'Caladea',\n",
       " 'Malgun Gothic']"
      ]
     },
     "execution_count": 28,
     "metadata": {},
     "output_type": "execute_result"
    }
   ],
   "source": [
    "import matplotlib.font_manager as fm\n",
    "flist = fm.fontManager.ttflist\n",
    "[f.name for f in flist]"
   ]
  },
  {
   "cell_type": "code",
   "execution_count": 29,
   "id": "c626701e",
   "metadata": {},
   "outputs": [
    {
     "data": {
      "image/png": "[encoded data removed]",
      "text/plain": [
       "<Figure size 640x480 with 1 Axes>"
      ]
     },
     "metadata": {},
     "output_type": "display_data"
    }
   ],
   "source": [
    "plt.plot(x, y)\n",
    "plt.title('꺽은선 그래프')\n",
    "plt.show()"
   ]
  },
  {
   "cell_type": "code",
   "execution_count": 41,
   "id": "3ceedcff",
   "metadata": {},
   "outputs": [
    {
     "data": {
      "image/png": "[encoded data removed]",
      "text/plain": [
       "<Figure size 640x480 with 1 Axes>"
      ]
     },
     "metadata": {},
     "output_type": "display_data"
    }
   ],
   "source": [
    "plt.title('꺽은선그래프', size = 20)\n",
    "plt.plot(x, y)\n",
    "plt.xlabel('X축', color='red', size =15, loc='right')\n",
    "plt.ylabel('Y축', color='blue', size = 15, loc='top' )\n",
    "plt.show()\n"
   ]
  },
  {
   "cell_type": "code",
   "execution_count": 49,
   "id": "a6c9ba05",
   "metadata": {},
   "outputs": [
    {
     "data": {
      "image/png": "[encoded data removed]",
      "text/plain": [
       "<Figure size 640x480 with 1 Axes>"
      ]
     },
     "metadata": {},
     "output_type": "display_data"
    }
   ],
   "source": [
    "plt.plot(x, y)\n",
    "plt.xticks(x)\n",
    "plt.yticks([y for y in range(0, 11, 2)])\n",
    "plt.show()"
   ]
  },
  {
   "cell_type": "code",
   "execution_count": null,
   "id": "3c2fcc6f",
   "metadata": {},
   "outputs": [],
   "source": []
  },
  {
   "cell_type": "code",
   "execution_count": null,
   "id": "c30c969f",
   "metadata": {},
   "outputs": [],
   "source": []
  },
  {
   "cell_type": "code",
   "execution_count": null,
   "id": "a814d7cd",
   "metadata": {},
   "outputs": [],
   "source": []
  },
  {
   "cell_type": "code",
   "execution_count": null,
   "id": "51018032",
   "metadata": {},
   "outputs": [],
   "source": []
  },
  {
   "cell_type": "code",
   "execution_count": null,
   "id": "89e98fc5",
   "metadata": {},
   "outputs": [],
   "source": []
  },
  {
   "cell_type": "code",
   "execution_count": null,
   "id": "b9f3301c",
   "metadata": {},
   "outputs": [],
   "source": []
  },
  {
   "cell_type": "code",
   "execution_count": null,
   "id": "cb427ca1",
   "metadata": {},
   "outputs": [],
   "source": []
  }
 ],
 "metadata": {
  "kernelspec": {
   "display_name": "Python 3",
   "language": "python",
   "name": "python3"
  },
  "language_info": {
   "codemirror_mode": {
    "name": "ipython",
    "version": 3
   },
   "file_extension": ".py",
   "mimetype": "text/x-python",
   "name": "python",
   "nbconvert_exporter": "python",
   "pygments_lexer": "ipython3",
   "version": "3.10.10"
  }
 },
 "nbformat": 4,
 "nbformat_minor": 5
}
