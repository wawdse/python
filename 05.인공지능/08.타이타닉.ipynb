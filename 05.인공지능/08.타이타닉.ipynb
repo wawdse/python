{
 "cells": [
  {
   "cell_type": "code",
   "execution_count": null,
   "id": "297db619",
   "metadata": {},
   "outputs": [],
   "source": [
    "#Feature Engineering"
   ]
  },
  {
   "cell_type": "code",
   "execution_count": null,
   "id": "d96cf528",
   "metadata": {},
   "outputs": [],
   "source": [
    "import pandas as pd\n",
    "train = pd.read_csv('data/타이타닉/train.csv')"
   ]
  },
  {
   "cell_type": "code",
   "execution_count": null,
   "id": "c94338f7",
   "metadata": {},
   "outputs": [],
   "source": [
    "train.head()"
   ]
  },
  {
   "cell_type": "code",
   "execution_count": null,
   "id": "24054706",
   "metadata": {},
   "outputs": [],
   "source": [
    "before_corr = train.corr(numeric_only=True)\n",
    "before_corr"
   ]
  },
  {
   "cell_type": "code",
   "execution_count": null,
   "id": "2fa90503",
   "metadata": {},
   "outputs": [],
   "source": [
    "train.isnull().sum()"
   ]
  },
  {
   "cell_type": "code",
   "execution_count": null,
   "id": "029954a9",
   "metadata": {},
   "outputs": [],
   "source": [
    "test = pd.read_csv('data/타이타닉/test.csv')\n",
    "test.head()"
   ]
  },
  {
   "cell_type": "code",
   "execution_count": null,
   "id": "4b6fd8b7",
   "metadata": {},
   "outputs": [],
   "source": [
    "test.isnull().sum()"
   ]
  },
  {
   "cell_type": "code",
   "execution_count": null,
   "id": "4fcdd6e5",
   "metadata": {},
   "outputs": [],
   "source": [
    "data_list=[train, test]"
   ]
  },
  {
   "cell_type": "code",
   "execution_count": null,
   "id": "81eeb91f",
   "metadata": {},
   "outputs": [],
   "source": [
    "data_list[1].head()"
   ]
  },
  {
   "cell_type": "code",
   "execution_count": null,
   "id": "428372fc",
   "metadata": {},
   "outputs": [],
   "source": [
    "train['Sex'].head()"
   ]
  },
  {
   "cell_type": "code",
   "execution_count": null,
   "id": "10504c95",
   "metadata": {},
   "outputs": [],
   "source": [
    "#1. 성별을 코드로 변환한다.\n",
    "for data in data_list:\n",
    "    data['Sex'] = data['Sex'].astype('category').cat.codes"
   ]
  },
  {
   "cell_type": "code",
   "execution_count": null,
   "id": "785ac502",
   "metadata": {},
   "outputs": [],
   "source": [
    "train['Sex'].head(), test['Sex'].head()"
   ]
  },
  {
   "cell_type": "code",
   "execution_count": null,
   "id": "91aa8b52",
   "metadata": {},
   "outputs": [],
   "source": [
    "gender_mean = train.groupby('Sex')['Age'].mean()\n",
    "gender_mean"
   ]
  },
  {
   "cell_type": "code",
   "execution_count": null,
   "id": "28f83470",
   "metadata": {},
   "outputs": [],
   "source": [
    "#2 나이가 널이면 성별 평균나이로 변환\n",
    "for data in data_list:\n",
    "    filt = (data['Sex']==0) & (data['Age'].isnull())\n",
    "    data.loc[filt, 'Age']=gender_mean[0]\n",
    "    filt = (data['Sex']==1) & (data['Age'].isnull())\n",
    "    data.loc[filt, 'Age']=gender_mean[1]"
   ]
  },
  {
   "cell_type": "code",
   "execution_count": null,
   "id": "595fd526",
   "metadata": {},
   "outputs": [],
   "source": [
    "train['AgeRange'] = pd.cut(train['Age'], 5)\n",
    "train['AgeRange'].value_counts()"
   ]
  },
  {
   "cell_type": "code",
   "execution_count": null,
   "id": "e0291cd1",
   "metadata": {},
   "outputs": [],
   "source": [
    "#3. 나이를 5개의 범주로 변환\n",
    "for data in data_list:\n",
    "    filt = data['Age']<=16\n",
    "    data.loc[filt, 'Age2']=0\n",
    "    filt = (data['Age']>16) & (data['Age']<=32)\n",
    "    data.loc[filt, 'Age2']=1\n",
    "    filt = (data['Age']>32) & (data['Age']<=48)\n",
    "    data.loc[filt, 'Age2']=2\n",
    "    filt = (data['Age']>48) & (data['Age']<=64)\n",
    "    data.loc[filt, 'Age2']=3\n",
    "    filt = data['Age'] >64\n",
    "    data.loc[filt, 'Age2']=4"
   ]
  },
  {
   "cell_type": "code",
   "execution_count": null,
   "id": "6dce30bb",
   "metadata": {},
   "outputs": [],
   "source": [
    "train['Age2'].value_counts()"
   ]
  },
  {
   "cell_type": "code",
   "execution_count": null,
   "id": "cc936778",
   "metadata": {},
   "outputs": [],
   "source": [
    "if 'AgeRange' in train.columns:\n",
    "    train.drop(columns='AgeRange', inplace=True)"
   ]
  },
  {
   "cell_type": "code",
   "execution_count": null,
   "id": "059f427a",
   "metadata": {},
   "outputs": [],
   "source": [
    "train.columns, test.columns"
   ]
  },
  {
   "cell_type": "code",
   "execution_count": null,
   "id": "885a6026",
   "metadata": {},
   "outputs": [],
   "source": [
    "for data in data_list:\n",
    "    if 'Age2' in data.columns:\n",
    "        data['Age'] = data['Age2']\n",
    "        data.drop(columns='Age2', inplace=True)"
   ]
  },
  {
   "cell_type": "code",
   "execution_count": null,
   "id": "9ca7f0d1",
   "metadata": {},
   "outputs": [],
   "source": [
    "train['Age'].value_counts()"
   ]
  },
  {
   "cell_type": "code",
   "execution_count": null,
   "id": "d63f07d1",
   "metadata": {},
   "outputs": [],
   "source": [
    "train['Name'].head()"
   ]
  },
  {
   "cell_type": "code",
   "execution_count": null,
   "id": "9959ae60",
   "metadata": {},
   "outputs": [],
   "source": [
    "#4. 이름에서 호칭을 뽑아서 코드로 변환"
   ]
  },
  {
   "cell_type": "code",
   "execution_count": null,
   "id": "debf4e29",
   "metadata": {},
   "outputs": [],
   "source": [
    "train['Title'] = train['Name'].str.extract(' ([A-Za-z]+)\\\\.')\n",
    "titles = train['Title'].value_counts()\n",
    "titles.index"
   ]
  },
  {
   "cell_type": "code",
   "execution_count": null,
   "id": "6a0dbf25",
   "metadata": {},
   "outputs": [],
   "source": [
    "others = [i for i in titles.index if i not in ['Mr', 'Miss', 'Mrs', 'Master']]\n",
    "print(others)"
   ]
  },
  {
   "cell_type": "code",
   "execution_count": null,
   "id": "0afa5ab7",
   "metadata": {},
   "outputs": [],
   "source": [
    "train['Title'] = train['Title'].replace(others, 'Other')\n",
    "train['Title'].value_counts()"
   ]
  },
  {
   "cell_type": "code",
   "execution_count": null,
   "id": "9c1ffb63",
   "metadata": {},
   "outputs": [],
   "source": [
    "train['Title_name'] = train['Title'].astype('category').cat.codes\n",
    "train[['Title', 'Title_name']].value_counts()"
   ]
  },
  {
   "cell_type": "code",
   "execution_count": null,
   "id": "c21a963c",
   "metadata": {},
   "outputs": [],
   "source": [
    "for data in data_list:\n",
    "    data['Title'] = data['Name'].str.extract(' ([A-Za-z]+)\\\\.')\n",
    "    titles = data['Title'].value_counts()\n",
    "    others = [i for i in titles.index if i not in ['Mr', 'Miss', 'Mrs', 'Master']]\n",
    "    data['Title'] = data['Title'].replace(others, 'Other')\n",
    "    data['Title_name'] = data['Title'].astype('category').cat.codes"
   ]
  },
  {
   "cell_type": "code",
   "execution_count": null,
   "id": "4932eced",
   "metadata": {},
   "outputs": [],
   "source": [
    "test[['Title', 'Title_name']].value_counts()"
   ]
  },
  {
   "cell_type": "code",
   "execution_count": null,
   "id": "2a5b37a8",
   "metadata": {},
   "outputs": [],
   "source": [
    "train.columns"
   ]
  },
  {
   "cell_type": "code",
   "execution_count": null,
   "id": "31785530",
   "metadata": {},
   "outputs": [],
   "source": [
    "for data in data_list:\n",
    "    if 'Name' in data.columns:\n",
    "        data.drop(columns='Name', inplace=True)\n",
    "    if 'Title' in data.columns:\n",
    "        data.drop(columns='Title', inplace=True)"
   ]
  },
  {
   "cell_type": "code",
   "execution_count": null,
   "id": "9d424fb5",
   "metadata": {},
   "outputs": [],
   "source": [
    "train.head()"
   ]
  },
  {
   "cell_type": "code",
   "execution_count": null,
   "id": "615b3aef",
   "metadata": {},
   "outputs": [],
   "source": [
    "#5. 배우자, 형제자매수, 부모, 자식수 + 1\n",
    "for data in data_list:\n",
    "    data['FamilySize'] = data['SibSp'] + data['Parch'] + 1"
   ]
  },
  {
   "cell_type": "code",
   "execution_count": null,
   "id": "de04fd43",
   "metadata": {},
   "outputs": [],
   "source": [
    "train['FamilySize'].value_counts()"
   ]
  },
  {
   "cell_type": "code",
   "execution_count": null,
   "id": "c33896c4",
   "metadata": {},
   "outputs": [],
   "source": [
    "train.columns"
   ]
  },
  {
   "cell_type": "code",
   "execution_count": null,
   "id": "035ed03c",
   "metadata": {},
   "outputs": [],
   "source": [
    "for data in data_list:\n",
    "    if 'SibSp' in data.columns:\n",
    "        data.drop(columns='SibSp', inplace=True)\n",
    "    if 'Parch' in data.columns:\n",
    "        data.drop(columns='Parch', inplace=True)"
   ]
  },
  {
   "cell_type": "code",
   "execution_count": null,
   "id": "5e6c3ebe",
   "metadata": {},
   "outputs": [],
   "source": [
    "train.columns"
   ]
  },
  {
   "cell_type": "code",
   "execution_count": null,
   "id": "346f3145",
   "metadata": {},
   "outputs": [],
   "source": [
    "train.isnull().sum()"
   ]
  },
  {
   "cell_type": "code",
   "execution_count": null,
   "id": "f76508c7",
   "metadata": {},
   "outputs": [],
   "source": [
    "train['Embarked'].value_counts()"
   ]
  },
  {
   "cell_type": "code",
   "execution_count": null,
   "id": "2f9efa1e",
   "metadata": {},
   "outputs": [],
   "source": [
    "for data in data_list:\n",
    "    data.fillna({'Embarked':'S'}, inplace=True)"
   ]
  },
  {
   "cell_type": "code",
   "execution_count": null,
   "id": "37f7bb5b",
   "metadata": {},
   "outputs": [],
   "source": [
    "train['Embarked'].value_counts()"
   ]
  },
  {
   "cell_type": "code",
   "execution_count": null,
   "id": "79f44448",
   "metadata": {},
   "outputs": [],
   "source": [
    "test.isnull().sum()"
   ]
  },
  {
   "cell_type": "code",
   "execution_count": null,
   "id": "c30dbc77",
   "metadata": {},
   "outputs": [],
   "source": [
    "#6. 항구이름을 코드로 변환\n",
    "for data in data_list:\n",
    "    for idx in range(len(data)):\n",
    "        if data.loc[idx, 'Embarked']=='S':\n",
    "            data.loc[idx, 'Embarked']=0\n",
    "        elif data.loc[idx, 'Embarked'] =='C':\n",
    "            data.loc[idx, 'Embarked']=1\n",
    "        elif data.loc[idx, 'Embarked'] =='Q':\n",
    "            data.loc[idx, 'Embarked']=2\n",
    "        #if not isinstance(data.loc[idx, 'Embarked'], int):\n",
    "            #data.loc[idx, 'Embarked'] = int(data.loc[idx, 'Embarked'])\n",
    "    data['Embarked']=data['Embarked'].apply(lambda x: int(x) if not isinstance(x, int) else x)"
   ]
  },
  {
   "cell_type": "code",
   "execution_count": null,
   "id": "658677a5",
   "metadata": {},
   "outputs": [],
   "source": [
    "train['Embarked'].value_counts()"
   ]
  },
  {
   "cell_type": "code",
   "execution_count": null,
   "id": "bf1f7978",
   "metadata": {},
   "outputs": [],
   "source": [
    "train.head()"
   ]
  },
  {
   "cell_type": "code",
   "execution_count": null,
   "id": "b920d960",
   "metadata": {},
   "outputs": [],
   "source": [
    "train.columns"
   ]
  },
  {
   "cell_type": "code",
   "execution_count": null,
   "id": "d24a9ff6",
   "metadata": {},
   "outputs": [],
   "source": [
    "train.isnull().sum()"
   ]
  },
  {
   "cell_type": "code",
   "execution_count": null,
   "id": "7a567b5f",
   "metadata": {},
   "outputs": [],
   "source": [
    "train['Cabin'].value_counts()"
   ]
  },
  {
   "cell_type": "code",
   "execution_count": null,
   "id": "baac87a7",
   "metadata": {},
   "outputs": [],
   "source": [
    "#7. Cabin을 앞자리 1자리로 코드로 변환 \n",
    "for data in data_list:\n",
    "    #data['Cabin'] = data['Cabin'].fillna('N')\n",
    "    data.fillna({'Cabin':'N'}, inplace=True)\n",
    "    data['Cabin'] = data['Cabin'].apply(lambda x:x[0])\n",
    "    data['Cabin'] = data['Cabin'].astype('category').cat.codes"
   ]
  },
  {
   "cell_type": "code",
   "execution_count": null,
   "id": "a09d11ef",
   "metadata": {},
   "outputs": [],
   "source": [
    "train['Cabin'].value_counts()"
   ]
  },
  {
   "cell_type": "code",
   "execution_count": null,
   "id": "8fbeee71",
   "metadata": {},
   "outputs": [],
   "source": [
    "train.head()"
   ]
  },
  {
   "cell_type": "code",
   "execution_count": null,
   "id": "07ce3cbc",
   "metadata": {},
   "outputs": [],
   "source": [
    "#8. Fare(요금)을 4개의 그룹으로 나누어 코드로 변환\n",
    "train['FareRange'] = pd.cut(train['Fare'], 4)\n",
    "train['FareRange'].value_counts()"
   ]
  },
  {
   "cell_type": "code",
   "execution_count": null,
   "id": "80150d6f",
   "metadata": {},
   "outputs": [],
   "source": [
    "for data in data_list:\n",
    "    filt = data['Fare']<=128\n",
    "    data.loc[filt, 'Fare2']=0\n",
    "    filt = (data['Fare']>128) & (data['Fare']<=256)\n",
    "    data.loc[filt, 'Fare2']=1\n",
    "    filt = (data['Fare']>256) & (data['Fare']<=384)\n",
    "    data.loc[filt, 'Fare2']=2\n",
    "    filt = (data['Fare']>384)\n",
    "    data.loc[filt, 'Fare2']=3"
   ]
  },
  {
   "cell_type": "code",
   "execution_count": null,
   "id": "71df6351",
   "metadata": {},
   "outputs": [],
   "source": [
    "train['Fare2'].value_counts()"
   ]
  },
  {
   "cell_type": "code",
   "execution_count": null,
   "id": "20c6964a",
   "metadata": {},
   "outputs": [],
   "source": [
    "train.columns"
   ]
  },
  {
   "cell_type": "code",
   "execution_count": null,
   "id": "73be2416",
   "metadata": {},
   "outputs": [],
   "source": [
    "for data in data_list:\n",
    "    if 'Fare2' in data.columns:\n",
    "        data['Fare'] = data['Fare2']\n",
    "        data.drop(columns='Fare2', inplace=True)\n",
    "    if 'FareRange' in data.columns:\n",
    "        data.drop(columns='FareRange', inplace=True)\n",
    "\n",
    "    data.fillna({'Fare':0}, inplace=True)"
   ]
  },
  {
   "cell_type": "code",
   "execution_count": null,
   "id": "cf93a3bb",
   "metadata": {},
   "outputs": [],
   "source": [
    "test.isnull().sum()"
   ]
  },
  {
   "cell_type": "code",
   "execution_count": null,
   "id": "a90e2133",
   "metadata": {},
   "outputs": [],
   "source": [
    "train.columns, test.columns"
   ]
  },
  {
   "cell_type": "code",
   "execution_count": null,
   "id": "b3c63289",
   "metadata": {},
   "outputs": [],
   "source": [
    "#9. 필요없는 칼럼 제거\n",
    "drop_list=['PassengerId', 'Ticket', 'Cabin']\n",
    "for data in data_list:\n",
    "    for col in drop_list:\n",
    "        if col in data.columns:\n",
    "            data.drop(columns=col, inplace=True)"
   ]
  },
  {
   "cell_type": "code",
   "execution_count": null,
   "id": "31d6c97c",
   "metadata": {},
   "outputs": [],
   "source": [
    "train.head()"
   ]
  },
  {
   "cell_type": "code",
   "execution_count": null,
   "id": "d063084a",
   "metadata": {},
   "outputs": [],
   "source": [
    "test.head()"
   ]
  },
  {
   "cell_type": "code",
   "execution_count": null,
   "id": "2def1b9f",
   "metadata": {},
   "outputs": [],
   "source": [
    "train.to_csv('data/타이타닉/훈련.csv', index=False)\n",
    "test.to_csv('data/타이타닉/테스트.csv', index=False)"
   ]
  },
  {
   "cell_type": "code",
   "execution_count": null,
   "id": "6b0f01c4",
   "metadata": {},
   "outputs": [],
   "source": [
    "before_corr"
   ]
  },
  {
   "cell_type": "code",
   "execution_count": null,
   "id": "7ace9253",
   "metadata": {},
   "outputs": [],
   "source": [
    "train.corr(numeric_only=True)"
   ]
  },
  {
   "cell_type": "code",
   "execution_count": null,
   "id": "c857e82c",
   "metadata": {},
   "outputs": [],
   "source": [
    "train.info()"
   ]
  },
  {
   "cell_type": "code",
   "execution_count": null,
   "id": "049d9f97",
   "metadata": {},
   "outputs": [],
   "source": [
    "train = pd.read_csv('data/타이타닉/훈련.csv')\n",
    "train.head()"
   ]
  },
  {
   "cell_type": "code",
   "execution_count": null,
   "id": "68f9b693",
   "metadata": {},
   "outputs": [],
   "source": [
    "test = pd.read_csv('data/타이타닉/테스트.csv')\n",
    "test.head()"
   ]
  },
  {
   "cell_type": "code",
   "execution_count": null,
   "id": "ba126371",
   "metadata": {},
   "outputs": [],
   "source": [
    "train.corr(numeric_only=True)"
   ]
  },
  {
   "cell_type": "code",
   "execution_count": null,
   "id": "b7352d7c",
   "metadata": {},
   "outputs": [],
   "source": [
    "train.head(2)"
   ]
  },
  {
   "cell_type": "code",
   "execution_count": null,
   "id": "58466175",
   "metadata": {},
   "outputs": [],
   "source": [
    "train.head(1)"
   ]
  },
  {
   "cell_type": "code",
   "execution_count": null,
   "id": "082b1b75",
   "metadata": {},
   "outputs": [],
   "source": [
    "X_train = train.iloc[:, 1:].values\n",
    "y_train = train.iloc[:, 0].values"
   ]
  },
  {
   "cell_type": "code",
   "execution_count": null,
   "id": "3a9b6003",
   "metadata": {},
   "outputs": [],
   "source": [
    "from sklearn.neighbors import KNeighborsClassifier\n",
    "model= KNeighborsClassifier()\n",
    "model.fit(X_train, y_train)"
   ]
  },
  {
   "cell_type": "code",
   "execution_count": null,
   "id": "6d0e1f5a",
   "metadata": {},
   "outputs": [],
   "source": [
    "y_train_pred = model.predict(X_train)"
   ]
  },
  {
   "cell_type": "code",
   "execution_count": null,
   "id": "7d89b7ba",
   "metadata": {},
   "outputs": [],
   "source": [
    "X_test = test.iloc[:, :].values\n",
    "y_test_pred = model.predict(X_test)"
   ]
  },
  {
   "cell_type": "code",
   "execution_count": null,
   "id": "ba08a5a6",
   "metadata": {},
   "outputs": [],
   "source": [
    "test['Prediction'] = y_test_pred\n",
    "test.head(1)"
   ]
  },
  {
   "cell_type": "code",
   "execution_count": null,
   "id": "b0efb8bb",
   "metadata": {},
   "outputs": [],
   "source": [
    "df_test = pd.read_csv('data/타이타닉/test.csv')\n",
    "df_test['Prediction'] = y_test_pred\n",
    "df_test.head()"
   ]
  },
  {
   "cell_type": "code",
   "execution_count": null,
   "id": "06cc42f5",
   "metadata": {},
   "outputs": [],
   "source": [
    "submission = pd.read_csv('data/타이타닉/gender_submission.csv')\n",
    "submission['Prediction'] = y_test_pred\n",
    "submission.to_csv('data/타이타닉/gender_submission.csv', index=False)"
   ]
  },
  {
   "cell_type": "code",
   "execution_count": null,
   "id": "a1bd3cd4",
   "metadata": {},
   "outputs": [],
   "source": [
    "import pandas as pd"
   ]
  },
  {
   "cell_type": "code",
   "execution_count": null,
   "id": "ad4e1bf1",
   "metadata": {},
   "outputs": [],
   "source": [
    "df = pd.read_csv('data/타이타닉/test.csv')\n",
    "df['pred'] = ''\n",
    "df.columns"
   ]
  },
  {
   "cell_type": "code",
   "execution_count": null,
   "id": "9789851d",
   "metadata": {},
   "outputs": [],
   "source": [
    "cols = ['Name', 'Sex', 'Age', 'Fare', 'Pclass', 'Embarked', 'pred']\n",
    "df = df[cols]\n",
    "df.columns = ['성명', '성별', '나이', '요금', '등급', '항구', '예측결과']\n",
    "df.head(10)"
   ]
  },
  {
   "cell_type": "code",
   "execution_count": null,
   "id": "4862c86b",
   "metadata": {},
   "outputs": [],
   "source": [
    "from sklearn.neighbors import KNeighborsClassifier\n",
    "model= KNeighborsClassifier()\n",
    "\n",
    "test = pd.read_csv('data/타이타닉/테스트.csv')\n",
    "train = pd.read_csv('data/타이타닉/훈련.csv')\n",
    "X = train.iloc[:, 1:].values\n",
    "y = train.iloc[:, 0].values\n",
    "model.fit(X, y)\n",
    "\n",
    "X_pred = test.iloc[:, :].values\n",
    "y_pred = model.predict(X_pred)\n",
    "\n",
    "df_test = pd.read_csv('data/타이타닉/test.csv')\n",
    "df_test['pred'] = y_pred\n",
    "df_test.head(5)\n"
   ]
  },
  {
   "cell_type": "code",
   "execution_count": null,
   "id": "131255e4",
   "metadata": {},
   "outputs": [],
   "source": [
    "test.head(1)"
   ]
  },
  {
   "cell_type": "code",
   "execution_count": null,
   "id": "6b7808f8",
   "metadata": {},
   "outputs": [],
   "source": [
    "train.head(1)"
   ]
  },
  {
   "cell_type": "code",
   "execution_count": null,
   "id": "f1b6489e",
   "metadata": {},
   "outputs": [],
   "source": [
    "train = pd.read_csv('data/타이타닉/훈련.csv')\n",
    "train['Age'].value_counts()"
   ]
  },
  {
   "cell_type": "code",
   "execution_count": null,
   "id": "9e3bc474",
   "metadata": {},
   "outputs": [],
   "source": [
    "import matplotlib.pyplot as plt\n",
    "import seaborn as sns\n",
    "plt.figure(figsize=(10, 3))\n",
    "sns.countplot(x='Age', hue='Survived', data=train, palette='blues')\n",
    "plt.show()"
   ]
  },
  {
   "cell_type": "code",
   "execution_count": null,
   "id": "7657bb39",
   "metadata": {},
   "outputs": [],
   "source": [
    "train.head()"
   ]
  },
  {
   "cell_type": "code",
   "execution_count": null,
   "id": "e32bde82",
   "metadata": {},
   "outputs": [],
   "source": [
    "def rate(col):\n",
    "    group = train[col].value_counts()\n",
    "    df_total = group.to_frame('전체')\n",
    "    group = train[train['Survived']==1][col].value_counts()\n",
    "    df_survived = group.to_frame('생존')\n",
    "    join = df_total.join(df_survived)\n",
    "    join['사망'] = join['전체']-join['생존']\n",
    "    join['생존율'] = join['생존']/join['전체']\n",
    "    return join"
   ]
  },
  {
   "cell_type": "code",
   "execution_count": null,
   "id": "5b623f4b",
   "metadata": {},
   "outputs": [],
   "source": [
    "df=rate('Age')\n",
    "df"
   ]
  },
  {
   "cell_type": "code",
   "execution_count": null,
   "id": "2b6eb015",
   "metadata": {},
   "outputs": [],
   "source": [
    "df_train = pd.read_csv('data/타이타닉/train.csv')\n",
    "df_train.head()"
   ]
  },
  {
   "cell_type": "code",
   "execution_count": null,
   "id": "56e3e25d",
   "metadata": {},
   "outputs": [],
   "source": [
    "df_train['AgeRange'] = pd.cut(df_train['Age'], 5)\n",
    "range = df_train['AgeRange'].value_counts()\n",
    "range = pd.Series(range)\n",
    "ranges = range.sort_index().index\n",
    "index = []\n",
    "for range in ranges:\n",
    "    range = str(range).replace('(','').replace(']', '').split(',')\n",
    "    range = f'{float(range[0]):.0f}~{float(range[1]):.0f}'\n",
    "    index.append(range)\n",
    "index"
   ]
  },
  {
   "cell_type": "code",
   "execution_count": null,
   "id": "ad177633",
   "metadata": {},
   "outputs": [],
   "source": [
    "df=rate('Age')\n",
    "df= df.sort_index()\n",
    "df.index = index\n",
    "df"
   ]
  },
  {
   "cell_type": "code",
   "execution_count": null,
   "id": "3514c9ea",
   "metadata": {},
   "outputs": [],
   "source": [
    "import numpy as np\n",
    "index = np.arange(len(df)) * 3\n",
    "plt.bar(index+0, df['생존'], width=1)\n",
    "plt.bar(index+1, df['사망'], width=1)\n",
    "plt.xticks([x+0.5 for x in index], df.index)\n",
    "plt.show()"
   ]
  }
 ],
 "metadata": {
  "kernelspec": {
   "display_name": "Python 3",
   "language": "python",
   "name": "python3"
  },
  "language_info": {
   "codemirror_mode": {
    "name": "ipython",
    "version": 3
   },
   "file_extension": ".py",
   "mimetype": "text/x-python",
   "name": "python",
   "nbconvert_exporter": "python",
   "pygments_lexer": "ipython3",
   "version": "3.10.10"
  }
 },
 "nbformat": 4,
 "nbformat_minor": 5
}
